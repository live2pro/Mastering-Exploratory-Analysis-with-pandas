{
  "nbformat": 4,
  "nbformat_minor": 0,
  "metadata": {
    "colab": {
      "name": "Copy of PANDAS Command by Pryn.ipynb",
      "provenance": [],
      "collapsed_sections": [
        "N10kNzawQb6K",
        "NOYMFSD78q7S",
        "TQaalus3uQrt",
        "ptJUsYeS-w8J",
        "yt4wFkhsnJPj",
        "3h7YbLPL97Ed",
        "keaCgwSa94J2",
        "T-NyR04bjFte",
        "LRDREBgAAuzA",
        "a9PcQ3vUQ_0m",
        "92ZrVzn-9eEk",
        "MNrIyyNATC6D",
        "wYL4zLu-tkvy",
        "FPdckiRj8QZv",
        "yrPfuK-k7QFe",
        "4nRKxNB2FDE_",
        "bg2A_UsJvj2B",
        "96qVVMKegibT"
      ],
      "toc_visible": true,
      "include_colab_link": true
    },
    "kernelspec": {
      "name": "python3",
      "display_name": "Python 3"
    }
  },
  "cells": [
    {
      "cell_type": "markdown",
      "metadata": {
        "id": "view-in-github",
        "colab_type": "text"
      },
      "source": [
        "<a href=\"https://colab.research.google.com/github/live2pro/Mastering-Exploratory-Analysis-with-pandas/blob/master/Copy_of_PANDAS_Command_by_Pryn.ipynb\" target=\"_parent\"><img src=\"https://colab.research.google.com/assets/colab-badge.svg\" alt=\"Open In Colab\"/></a>"
      ]
    },
    {
      "cell_type": "code",
      "metadata": {
        "id": "iB-bWFal_Gxy"
      },
      "source": [
        ""
      ],
      "execution_count": null,
      "outputs": []
    },
    {
      "cell_type": "code",
      "metadata": {
        "id": "oq_gBCip_G1Z"
      },
      "source": [
        ""
      ],
      "execution_count": null,
      "outputs": []
    },
    {
      "cell_type": "markdown",
      "metadata": {
        "id": "oESBpB1Ph_OR"
      },
      "source": [
        "### Cum diff (เอาค่าของแถวบนมาใส่แถวถัดไป) previous value"
      ]
    },
    {
      "cell_type": "code",
      "metadata": {
        "id": "UiCy0wbSrcg3"
      },
      "source": [
        "dx=df[['sale']].apply(lambda x: x.shift(1))"
      ],
      "execution_count": null,
      "outputs": []
    },
    {
      "cell_type": "markdown",
      "metadata": {
        "id": "L8i7-Q6_WF5l"
      },
      "source": [
        "### Combine two index (list of columns name)"
      ]
    },
    {
      "cell_type": "code",
      "metadata": {
        "id": "5OFumlx8rcc_"
      },
      "source": [
        "full_col=col_net.join(col_sale,how=\"outer\")   # Combine two indexs"
      ],
      "execution_count": null,
      "outputs": []
    },
    {
      "cell_type": "markdown",
      "metadata": {
        "id": "DcPwhnl0V7cR"
      },
      "source": [
        "### Filter column name contain string"
      ]
    },
    {
      "cell_type": "code",
      "metadata": {
        "id": "8TeUjJTrrcY8"
      },
      "source": [
        "col_net = dxfull.columns[dxfull.columns.str.contains(pat = 'Net')]   # Filter columns contain \"Net\""
      ],
      "execution_count": null,
      "outputs": []
    },
    {
      "cell_type": "markdown",
      "metadata": {
        "id": "i2bGlHIks7zK"
      },
      "source": [
        "### Read file and determine index column"
      ]
    },
    {
      "cell_type": "code",
      "metadata": {
        "id": "gs0QBCcbrcU6"
      },
      "source": [
        "df=pd.read_csv(\"file.csv\",index_col=['customer_id'])"
      ],
      "execution_count": null,
      "outputs": []
    },
    {
      "cell_type": "markdown",
      "metadata": {
        "id": "4W5raCBFrOHT"
      },
      "source": [
        "### Clean blank & Convert column to int"
      ]
    },
    {
      "cell_type": "code",
      "metadata": {
        "id": "4vmczcwK_G5W"
      },
      "source": [
        "df['Net Sales'] = df['Net Sales'].str.replace(' ', '0')\n",
        "df['Net Sales']=df['Net Sales'].fillna(0)\n",
        "df['Net Sales']=df['Net Sales'].astype('float').astype('int')"
      ],
      "execution_count": null,
      "outputs": []
    },
    {
      "cell_type": "code",
      "metadata": {
        "id": "j5WLYO9irX8M"
      },
      "source": [
        "def clean_Null_to_int(columnName):\n",
        "    columnName = columnName.str.replace(' ', '0')\n",
        "    columnName=columnName.fillna(0)\n",
        "    columnName=columnName.astype('float').astype('int')\n",
        "    return columnName"
      ],
      "execution_count": null,
      "outputs": []
    },
    {
      "cell_type": "markdown",
      "metadata": {
        "id": "2MeJf_o3t5W-"
      },
      "source": [
        "### Map Filter & Reduce & accumulate\n",
        "map ใช้กับ listไม่ได้"
      ]
    },
    {
      "cell_type": "code",
      "metadata": {
        "id": "70CFvQdbuXLl"
      },
      "source": [
        "bot=[1,2,3]\n",
        "eg=pd.Series(bot)\n",
        "jim=eg.map(lambda x:x*10)   # return [10,20,30]"
      ],
      "execution_count": null,
      "outputs": []
    },
    {
      "cell_type": "markdown",
      "metadata": {
        "id": "kXTfT5K3LHVk"
      },
      "source": [
        "Reduce"
      ]
    },
    {
      "cell_type": "code",
      "metadata": {
        "id": "sIEXRkoWIiaw"
      },
      "source": [
        "import functools\n",
        "jum=functools.reduce(lambda x,y:x+y,eg)  # return (1+2+3)"
      ],
      "execution_count": null,
      "outputs": []
    },
    {
      "cell_type": "markdown",
      "metadata": {
        "id": "f6DpTjuALsrS"
      },
      "source": [
        "accumulate()"
      ]
    },
    {
      "cell_type": "code",
      "metadata": {
        "id": "_9CRVu-DLuxm"
      },
      "source": [
        ""
      ],
      "execution_count": null,
      "outputs": []
    },
    {
      "cell_type": "code",
      "metadata": {
        "id": "CXwuiDVdLusq"
      },
      "source": [
        ""
      ],
      "execution_count": null,
      "outputs": []
    },
    {
      "cell_type": "markdown",
      "metadata": {
        "id": "SvHchYd9yfpD"
      },
      "source": [
        "### loc & iloc"
      ]
    },
    {
      "cell_type": "code",
      "metadata": {
        "id": "wBIewo48o83E"
      },
      "source": [
        "reviews.iloc[0]  #select row0 with all columns"
      ],
      "execution_count": null,
      "outputs": []
    },
    {
      "cell_type": "code",
      "metadata": {
        "id": "qcgdj_8_z8wb"
      },
      "source": [
        "reviews.iloc[:, 0] # select all rows with first column"
      ],
      "execution_count": null,
      "outputs": []
    },
    {
      "cell_type": "code",
      "metadata": {
        "id": "hUlheMlvz80P"
      },
      "source": [
        "reviews.iloc[:3, 0] # select row 0-2 with first column"
      ],
      "execution_count": null,
      "outputs": []
    },
    {
      "cell_type": "code",
      "metadata": {
        "id": "w5SzlBDoz83I"
      },
      "source": [
        "reviews.iloc[[0, 1, 2], 0]  # select row 0,1,2 with first column"
      ],
      "execution_count": null,
      "outputs": []
    },
    {
      "cell_type": "code",
      "metadata": {
        "id": "yIo3IIqoz859"
      },
      "source": [
        "reviews.iloc[-5:] # last 5 rows (tail 5 rows)"
      ],
      "execution_count": null,
      "outputs": []
    },
    {
      "cell_type": "code",
      "metadata": {
        "id": "c2HJwbTlz89q"
      },
      "source": [
        "reviews.loc[0, 'country']"
      ],
      "execution_count": null,
      "outputs": []
    },
    {
      "cell_type": "code",
      "metadata": {
        "id": "J2UBCz_f0zMq"
      },
      "source": [
        "reviews.loc[:, ['taster_name', 'taster_twitter_handle', 'points']] # select all rows with selected columns name"
      ],
      "execution_count": null,
      "outputs": []
    },
    {
      "cell_type": "markdown",
      "metadata": {
        "id": "4PullDgd3MTX"
      },
      "source": [
        "### Index Management"
      ]
    },
    {
      "cell_type": "code",
      "metadata": {
        "id": "YeS0x6PN0zQF"
      },
      "source": [
        "reviews.set_index(\"title\") # set index with selected column"
      ],
      "execution_count": null,
      "outputs": []
    },
    {
      "cell_type": "markdown",
      "metadata": {
        "id": "cn2rOTX94YMr"
      },
      "source": [
        "### Conditional selection"
      ]
    },
    {
      "cell_type": "code",
      "metadata": {
        "id": "VF0K0Yeb0zT-"
      },
      "source": [
        "reviews.country == 'Italy' # retrun series"
      ],
      "execution_count": null,
      "outputs": []
    },
    {
      "cell_type": "code",
      "metadata": {
        "id": "MHMZMqgQz9AA"
      },
      "source": [
        "reviews.loc[reviews.country == 'Italy']  # return dataframe"
      ],
      "execution_count": null,
      "outputs": []
    },
    {
      "cell_type": "code",
      "metadata": {
        "id": "LG28EbmQ4dUe"
      },
      "source": [
        "reviews.loc[(reviews.country == 'Italy') & (reviews.points >= 90)] #condition \"AND\""
      ],
      "execution_count": null,
      "outputs": []
    },
    {
      "cell_type": "code",
      "metadata": {
        "id": "brkAZKaa4dXy"
      },
      "source": [
        "reviews.loc[(reviews.country == 'Italy') | (reviews.points >= 90)]  # condition \"OR\""
      ],
      "execution_count": null,
      "outputs": []
    },
    {
      "cell_type": "code",
      "metadata": {
        "id": "EW047Sto4dcR"
      },
      "source": [
        "reviews.loc[reviews.country.isin(['Italy', 'France'])]"
      ],
      "execution_count": null,
      "outputs": []
    },
    {
      "cell_type": "code",
      "metadata": {
        "id": "-thEN6uH4dem"
      },
      "source": [
        "reviews.loc[reviews.price.notnull()]"
      ],
      "execution_count": null,
      "outputs": []
    },
    {
      "cell_type": "code",
      "metadata": {
        "id": "brOsrRLE44J-"
      },
      "source": [
        ""
      ],
      "execution_count": null,
      "outputs": []
    },
    {
      "cell_type": "code",
      "metadata": {
        "id": "XvkFbQo_44M-"
      },
      "source": [
        ""
      ],
      "execution_count": null,
      "outputs": []
    },
    {
      "cell_type": "code",
      "metadata": {
        "id": "YSloInzc44RM"
      },
      "source": [
        ""
      ],
      "execution_count": null,
      "outputs": []
    },
    {
      "cell_type": "code",
      "metadata": {
        "id": "ZC54nQ9544Tr"
      },
      "source": [
        ""
      ],
      "execution_count": null,
      "outputs": []
    },
    {
      "cell_type": "code",
      "metadata": {
        "id": "lMxBtspi44XA"
      },
      "source": [
        ""
      ],
      "execution_count": null,
      "outputs": []
    },
    {
      "cell_type": "markdown",
      "metadata": {
        "id": "d-LPafd-qaKn"
      },
      "source": [
        "### Auto generate variable name"
      ]
    },
    {
      "cell_type": "code",
      "metadata": {
        "id": "3Xi6dnRIo-VH"
      },
      "source": [
        "for i in list([\"a\",\"b\"]):\n",
        "  print(i)\n",
        "  globals()[i]=i\n",
        "\n",
        "print(a,b) # return a,b "
      ],
      "execution_count": null,
      "outputs": []
    },
    {
      "cell_type": "markdown",
      "metadata": {
        "id": "IrcCmAWLqaSF"
      },
      "source": [
        "### Merge multiple dataframe"
      ]
    },
    {
      "cell_type": "code",
      "metadata": {
        "id": "OR4bQPvBKTHq"
      },
      "source": [
        "from functools import reduce\n",
        "#df1 ,df2, df3  มี foriegn key เดียวกัน ในที่นี้คือ name\n",
        "\n",
        "data_frames = [df1, df2, df3]\n",
        "df_merged = reduce(lambda  left,right: pd.merge(left,right,on=['name'],how='outer'), data_frames)"
      ],
      "execution_count": null,
      "outputs": []
    },
    {
      "cell_type": "markdown",
      "metadata": {
        "id": "MwvrBgvlnryN"
      },
      "source": [
        "### Merge Multiple Keys"
      ]
    },
    {
      "cell_type": "code",
      "metadata": {
        "colab": {
          "base_uri": "https://localhost:8080/",
          "height": 163
        },
        "id": "zvxVMrz6nwbV",
        "outputId": "83a05dfe-1302-4f0d-9400-8691453f9165"
      },
      "source": [
        "new_df = pd.merge(A_df, B_df,  how='left', left_on=['A_c1','c2'], right_on = ['B_c1','c2'])"
      ],
      "execution_count": null,
      "outputs": [
        {
          "output_type": "error",
          "ename": "NameError",
          "evalue": "ignored",
          "traceback": [
            "\u001b[0;31m---------------------------------------------------------------------------\u001b[0m",
            "\u001b[0;31mNameError\u001b[0m                                 Traceback (most recent call last)",
            "\u001b[0;32m<ipython-input-1-923274b7745e>\u001b[0m in \u001b[0;36m<module>\u001b[0;34m()\u001b[0m\n\u001b[0;32m----> 1\u001b[0;31m \u001b[0mnew_df\u001b[0m \u001b[0;34m=\u001b[0m \u001b[0mpd\u001b[0m\u001b[0;34m.\u001b[0m\u001b[0mmerge\u001b[0m\u001b[0;34m(\u001b[0m\u001b[0mA_df\u001b[0m\u001b[0;34m,\u001b[0m \u001b[0mB_df\u001b[0m\u001b[0;34m,\u001b[0m  \u001b[0mhow\u001b[0m\u001b[0;34m=\u001b[0m\u001b[0;34m'left'\u001b[0m\u001b[0;34m,\u001b[0m \u001b[0mleft_on\u001b[0m\u001b[0;34m=\u001b[0m\u001b[0;34m[\u001b[0m\u001b[0;34m'A_c1'\u001b[0m\u001b[0;34m,\u001b[0m\u001b[0;34m'c2'\u001b[0m\u001b[0;34m]\u001b[0m\u001b[0;34m,\u001b[0m \u001b[0mright_on\u001b[0m \u001b[0;34m=\u001b[0m \u001b[0;34m[\u001b[0m\u001b[0;34m'B_c1'\u001b[0m\u001b[0;34m,\u001b[0m\u001b[0;34m'c2'\u001b[0m\u001b[0;34m]\u001b[0m\u001b[0;34m)\u001b[0m\u001b[0;34m\u001b[0m\u001b[0;34m\u001b[0m\u001b[0m\n\u001b[0m",
            "\u001b[0;31mNameError\u001b[0m: name 'pd' is not defined"
          ]
        }
      ]
    },
    {
      "cell_type": "markdown",
      "metadata": {
        "id": "nj3UYqFZKUHR"
      },
      "source": [
        "### Combine dataframe"
      ]
    },
    {
      "cell_type": "code",
      "metadata": {
        "id": "fgQuUOOYIid-"
      },
      "source": [
        "dfnew=pd.merge(left=df,right=dfname,how='left',left_on='NewThaiName',right_on='NewThaiName')"
      ],
      "execution_count": null,
      "outputs": []
    },
    {
      "cell_type": "markdown",
      "metadata": {
        "id": "YPL3zJBbJ0SM"
      },
      "source": [
        "### Clean white space in column"
      ]
    },
    {
      "cell_type": "code",
      "metadata": {
        "id": "9ecauQgAIig7"
      },
      "source": [
        "df['NewThaiName']=df['First Name_Check'].str.strip()+str(\" \")+df['Last Name_Check'].str.strip()"
      ],
      "execution_count": null,
      "outputs": []
    },
    {
      "cell_type": "markdown",
      "metadata": {
        "id": "FLnoEUxvI8KB"
      },
      "source": [
        "### Cosine Similarity หาคำที่ใกล้เคียงกัน"
      ]
    },
    {
      "cell_type": "code",
      "metadata": {
        "id": "-mAfC7xcIikV"
      },
      "source": [
        "def word2vec(word):\n",
        "    from collections import Counter\n",
        "    from math import sqrt\n",
        "\n",
        "    # count the characters in word\n",
        "    cw = Counter(word)\n",
        "    # precomputes a set of the different characters\n",
        "    sw = set(cw)\n",
        "    # precomputes the \"length\" of the word vector\n",
        "    lw = sqrt(sum(c*c for c in cw.values()))\n",
        "\n",
        "    # return a tuple\n",
        "    return cw, sw, lw\n",
        "\n",
        "def cosdis(v1, v2):\n",
        "    # which characters are common to the two words?\n",
        "    common = v1[1].intersection(v2[1])\n",
        "    # by definition of cosine distance we have\n",
        "    return sum(v1[0][ch]*v2[0][ch] for ch in common)/v1[2]/v2[2]\n",
        "\n",
        "list_A = [1,2,3,4 ]  หรือ series eg, dfxE[dfxE['NewThaiName'].isnull()]['eFullName'].unique()\n",
        "list_B = [1,2,3,4 ]  หรือ series eg,  dfname['eFullName']\n",
        "\n",
        "correctName=[]\n",
        "badname = []\n",
        "threshold = 0.92   # if needed\n",
        "for key in list_A:\n",
        "    for word in list_B:\n",
        "        try:\n",
        "            # print(key)\n",
        "            # print(word)\n",
        "            res = cosdis(word2vec(word), word2vec(key))\n",
        "            if res*100 > 92 :\n",
        "              correctName.append(word)\n",
        "              badname.append(key)\n",
        "\n",
        "            # print(res)\n",
        "              print(\"The cosine similarity between : {} and : {} is: {}\".format(word, key, res*100))\n",
        "            # if res > threshold:\n",
        "            #     print(\"Found a word with cosine distance > 80 : {} with original word: {}\".format(word, key))\n",
        "        except IndexError:\n",
        "            pass\n",
        "\n",
        "            "
      ],
      "execution_count": null,
      "outputs": []
    },
    {
      "cell_type": "markdown",
      "metadata": {
        "id": "dsumLk-n52k7"
      },
      "source": [
        "### Filter dataframe"
      ]
    },
    {
      "cell_type": "code",
      "metadata": {
        "id": "QgbSSqZ6uXOd"
      },
      "source": [
        "dfTh[dfTh['First Name']==\"ชาติบัณฑิต\"].head(2)"
      ],
      "execution_count": null,
      "outputs": []
    },
    {
      "cell_type": "markdown",
      "metadata": {
        "id": "1S5W3OWy5m-V"
      },
      "source": [
        "### value_counts()"
      ]
    },
    {
      "cell_type": "code",
      "metadata": {
        "id": "SPfJDweiuXRd"
      },
      "source": [
        "dfTh['First Name'].str.startswith('นางสาว').value_counts()"
      ],
      "execution_count": null,
      "outputs": []
    },
    {
      "cell_type": "markdown",
      "metadata": {
        "id": "u4DSBeJCuygk"
      },
      "source": [
        "### Replace value in column"
      ]
    },
    {
      "cell_type": "code",
      "metadata": {
        "id": "vcz8LvdMuXUX"
      },
      "source": [
        "dfTh['Last Name'] = dfTh['Last Name'].replace(['old value'],'new value')"
      ],
      "execution_count": null,
      "outputs": []
    },
    {
      "cell_type": "markdown",
      "metadata": {
        "id": "2qKkrFtHudKu"
      },
      "source": [
        "### Check null value in columns show result in df"
      ]
    },
    {
      "cell_type": "code",
      "metadata": {
        "id": "Xd9KcYtXuXX0"
      },
      "source": [
        "# check error after combine data\n",
        "dfxT[dfxT['NewThaiName'].isnull()]\n",
        "missing_name=dfnew[dfnew['tFullName'].isnull()][['Full Name_Check','tFullName']] # show result in dataframe with 2 columns"
      ],
      "execution_count": null,
      "outputs": []
    },
    {
      "cell_type": "markdown",
      "metadata": {
        "id": "CzXsM7oqt52P"
      },
      "source": [
        "### Select specific columns show in df form"
      ]
    },
    {
      "cell_type": "code",
      "metadata": {
        "id": "wkU9-mntuFff"
      },
      "source": [
        "dfx[['col1','col2']]"
      ],
      "execution_count": null,
      "outputs": []
    },
    {
      "cell_type": "markdown",
      "metadata": {
        "id": "ydkgtug2t6FG"
      },
      "source": [
        "### Export to CSV with utf-8 for excel"
      ]
    },
    {
      "cell_type": "code",
      "metadata": {
        "id": "VJ1e4WWKt2aF"
      },
      "source": [
        "dfx.to_csv(\"21.08.06.Full-clean-ExamResult.csv\",encoding=\"utf-8-sig\",,index=False)"
      ],
      "execution_count": null,
      "outputs": []
    },
    {
      "cell_type": "markdown",
      "metadata": {
        "id": "1Sh2OSjl4W4u"
      },
      "source": [
        "### Sorting value in Df"
      ]
    },
    {
      "cell_type": "code",
      "metadata": {
        "id": "tVwYBEuD4Ti5"
      },
      "source": [
        "df1=df.sort_values(by=\"First Name\", ascending=True).reset_index()"
      ],
      "execution_count": null,
      "outputs": []
    },
    {
      "cell_type": "markdown",
      "metadata": {
        "id": "V4MiiCAmNO_O"
      },
      "source": [
        "### แก้ปัญหา SettingWithCopy (error เวลา assign ค่าให้ df)"
      ]
    },
    {
      "cell_type": "code",
      "metadata": {
        "id": "0EH5bCc8NLK4"
      },
      "source": [
        "df_project_1_clean=df_project_1_clean.copy()\n",
        "df_project_1_clean['Project']=name_project1\n",
        "df_project_1_clean['Leader']=leader_project1"
      ],
      "execution_count": null,
      "outputs": []
    },
    {
      "cell_type": "markdown",
      "metadata": {
        "id": "wnj1Q01cMQPk"
      },
      "source": [
        "### Silence install package in Colab"
      ]
    },
    {
      "cell_type": "code",
      "metadata": {
        "id": "G6EFoyi2MOmr"
      },
      "source": [
        "! pip install -q google-api-python-client"
      ],
      "execution_count": null,
      "outputs": []
    },
    {
      "cell_type": "code",
      "metadata": {
        "id": "vlSV99exdDhN"
      },
      "source": [
        "import pandas as pd\n",
        "import numpy as np\n",
        "import random"
      ],
      "execution_count": null,
      "outputs": []
    },
    {
      "cell_type": "markdown",
      "metadata": {
        "id": "lc45-of4lxCs"
      },
      "source": [
        "### How to use variable in a query in pandas\n",
        "\n",
        "https://www.listendata.com/2020/12/how-to-use-variable-in-query-in-pandas.html"
      ]
    },
    {
      "cell_type": "code",
      "metadata": {
        "id": "hruATPhm7iKT"
      },
      "source": [
        "df=pd.DataFrame({'boto':[1,2,3,4],\n",
        "                 'jimbo':[3,4,5,6],\n",
        "                 'type':['a','b','c','a']})"
      ],
      "execution_count": null,
      "outputs": []
    },
    {
      "cell_type": "code",
      "metadata": {
        "id": "bFBf2y--bpHy"
      },
      "source": [
        "# save to google drive folder Colab Notebook\n",
        "df.to_csv(\"/content/drive/My Drive/Colab Notebooks/boto1.csv\")"
      ],
      "execution_count": null,
      "outputs": []
    },
    {
      "cell_type": "code",
      "metadata": {
        "id": "u-mUARcgcVyP"
      },
      "source": [
        "df1=pd.read_csv(\"/content/drive/My Drive/Colab Notebooks/boto.csv\")"
      ],
      "execution_count": null,
      "outputs": []
    },
    {
      "cell_type": "code",
      "metadata": {
        "id": "lYovFYogc2GT",
        "colab": {
          "base_uri": "https://localhost:8080/",
          "height": 168
        },
        "outputId": "04db61de-b966-4429-ae34-be6f18a5662a"
      },
      "source": [
        "df1"
      ],
      "execution_count": null,
      "outputs": [
        {
          "output_type": "execute_result",
          "data": {
            "text/html": [
              "<div>\n",
              "<style scoped>\n",
              "    .dataframe tbody tr th:only-of-type {\n",
              "        vertical-align: middle;\n",
              "    }\n",
              "\n",
              "    .dataframe tbody tr th {\n",
              "        vertical-align: top;\n",
              "    }\n",
              "\n",
              "    .dataframe thead th {\n",
              "        text-align: right;\n",
              "    }\n",
              "</style>\n",
              "<table border=\"1\" class=\"dataframe\">\n",
              "  <thead>\n",
              "    <tr style=\"text-align: right;\">\n",
              "      <th></th>\n",
              "      <th>Unnamed: 0</th>\n",
              "      <th>boto</th>\n",
              "      <th>jimbo</th>\n",
              "      <th>type</th>\n",
              "    </tr>\n",
              "  </thead>\n",
              "  <tbody>\n",
              "    <tr>\n",
              "      <th>0</th>\n",
              "      <td>0</td>\n",
              "      <td>1</td>\n",
              "      <td>3</td>\n",
              "      <td>a</td>\n",
              "    </tr>\n",
              "    <tr>\n",
              "      <th>1</th>\n",
              "      <td>1</td>\n",
              "      <td>2</td>\n",
              "      <td>4</td>\n",
              "      <td>b</td>\n",
              "    </tr>\n",
              "    <tr>\n",
              "      <th>2</th>\n",
              "      <td>2</td>\n",
              "      <td>3</td>\n",
              "      <td>5</td>\n",
              "      <td>c</td>\n",
              "    </tr>\n",
              "    <tr>\n",
              "      <th>3</th>\n",
              "      <td>3</td>\n",
              "      <td>4</td>\n",
              "      <td>6</td>\n",
              "      <td>a</td>\n",
              "    </tr>\n",
              "  </tbody>\n",
              "</table>\n",
              "</div>"
            ],
            "text/plain": [
              "   Unnamed: 0  boto  jimbo type\n",
              "0           0     1      3    a\n",
              "1           1     2      4    b\n",
              "2           2     3      5    c\n",
              "3           3     4      6    a"
            ]
          },
          "metadata": {
            "tags": []
          },
          "execution_count": 6
        }
      ]
    },
    {
      "cell_type": "markdown",
      "metadata": {
        "id": "cY47VL0Q6ejd"
      },
      "source": [
        "### Googlesheet"
      ]
    },
    {
      "cell_type": "markdown",
      "metadata": {
        "id": "UfsuAqTpNC_a"
      },
      "source": [
        "### While"
      ]
    },
    {
      "cell_type": "code",
      "metadata": {
        "id": "CbpOz_LmNF34"
      },
      "source": [
        "che=[]\n",
        "i=0\n",
        "while i < len(clean_dfx):\n",
        "  che.append(str(local_datetime))\n",
        "  i+=1"
      ],
      "execution_count": null,
      "outputs": []
    },
    {
      "cell_type": "markdown",
      "metadata": {
        "id": "I1vBEiUe6puG"
      },
      "source": [
        "https://colab.research.google.com/drive/1laBs99BWBBKRdt2loD-E7YAho6ySDTBD#scrollTo=2QJp4EqVzfbg"
      ]
    },
    {
      "cell_type": "markdown",
      "metadata": {
        "id": "bwPylR18rXgE"
      },
      "source": [
        "### Local Date time"
      ]
    },
    {
      "cell_type": "code",
      "metadata": {
        "id": "9nqY9rtDrSmO"
      },
      "source": [
        "import time\n",
        "from time import gmtime, strftime,localtime\n",
        "local_datetime=strftime(\"%Y-%m-%d %H:%M:%S\", localtime())"
      ],
      "execution_count": null,
      "outputs": []
    },
    {
      "cell_type": "code",
      "metadata": {
        "colab": {
          "base_uri": "https://localhost:8080/",
          "height": 35
        },
        "id": "jsUKBVDIrho9",
        "outputId": "9eb28fb0-c44b-45c0-ef69-e7b3e7cf805b"
      },
      "source": [
        "local_datetime"
      ],
      "execution_count": null,
      "outputs": [
        {
          "output_type": "execute_result",
          "data": {
            "application/vnd.google.colaboratory.intrinsic+json": {
              "type": "string"
            },
            "text/plain": [
              "'2021-01-04 13:55:56'"
            ]
          },
          "metadata": {
            "tags": []
          },
          "execution_count": 3
        }
      ]
    },
    {
      "cell_type": "markdown",
      "metadata": {
        "id": "PxT4uxk1hpOJ"
      },
      "source": [
        "Change Date format"
      ]
    },
    {
      "cell_type": "code",
      "metadata": {
        "id": "FV6QXD0dhnoz"
      },
      "source": [
        "All_df['Date']=[i.strftime(\"%d/%m/%y\") for i in All_df['Date'] ]"
      ],
      "execution_count": null,
      "outputs": []
    },
    {
      "cell_type": "markdown",
      "metadata": {
        "id": "N10kNzawQb6K"
      },
      "source": [
        "### Convert to datetime"
      ]
    },
    {
      "cell_type": "code",
      "metadata": {
        "id": "e3Ru5X9LQiOC"
      },
      "source": [
        "df['Date sent to company'] = pd.to_datetime(df['Date sent to company'])"
      ],
      "execution_count": null,
      "outputs": []
    },
    {
      "cell_type": "markdown",
      "metadata": {
        "id": "OTbeMXNmE80-"
      },
      "source": [
        "Pivot table"
      ]
    },
    {
      "cell_type": "code",
      "metadata": {
        "id": "s0geonK0E_gJ",
        "colab": {
          "base_uri": "https://localhost:8080/"
        },
        "outputId": "8d512442-589b-4294-b65e-c62b921aca22"
      },
      "source": [
        "df.pivot_table(df,index=['type'],aggfunc='sum')"
      ],
      "execution_count": null,
      "outputs": [
        {
          "output_type": "execute_result",
          "data": {
            "text/html": [
              "<div>\n",
              "<style scoped>\n",
              "    .dataframe tbody tr th:only-of-type {\n",
              "        vertical-align: middle;\n",
              "    }\n",
              "\n",
              "    .dataframe tbody tr th {\n",
              "        vertical-align: top;\n",
              "    }\n",
              "\n",
              "    .dataframe thead th {\n",
              "        text-align: right;\n",
              "    }\n",
              "</style>\n",
              "<table border=\"1\" class=\"dataframe\">\n",
              "  <thead>\n",
              "    <tr style=\"text-align: right;\">\n",
              "      <th></th>\n",
              "      <th>boto</th>\n",
              "      <th>jimbo</th>\n",
              "    </tr>\n",
              "    <tr>\n",
              "      <th>type</th>\n",
              "      <th></th>\n",
              "      <th></th>\n",
              "    </tr>\n",
              "  </thead>\n",
              "  <tbody>\n",
              "    <tr>\n",
              "      <th>a</th>\n",
              "      <td>5</td>\n",
              "      <td>9</td>\n",
              "    </tr>\n",
              "    <tr>\n",
              "      <th>b</th>\n",
              "      <td>2</td>\n",
              "      <td>4</td>\n",
              "    </tr>\n",
              "    <tr>\n",
              "      <th>c</th>\n",
              "      <td>3</td>\n",
              "      <td>5</td>\n",
              "    </tr>\n",
              "  </tbody>\n",
              "</table>\n",
              "</div>"
            ],
            "text/plain": [
              "      boto  jimbo\n",
              "type             \n",
              "a        5      9\n",
              "b        2      4\n",
              "c        3      5"
            ]
          },
          "metadata": {
            "tags": []
          },
          "execution_count": 40
        }
      ]
    },
    {
      "cell_type": "markdown",
      "metadata": {
        "id": "NOYMFSD78q7S"
      },
      "source": [
        "### Create dataframe"
      ]
    },
    {
      "cell_type": "code",
      "metadata": {
        "id": "uxwAot9KhbLG"
      },
      "source": [
        "df=pd.DataFrame(boto,columns=[\"sex\"])"
      ],
      "execution_count": null,
      "outputs": []
    },
    {
      "cell_type": "code",
      "metadata": {
        "id": "Iad2Uh_kNbcS"
      },
      "source": [
        "clean_dfx=clean_dfx[clean_dfx[\"Country/Territory/Area\"].notnull()]"
      ],
      "execution_count": null,
      "outputs": []
    },
    {
      "cell_type": "markdown",
      "metadata": {
        "id": "kXSg2pseHGf-"
      },
      "source": [
        "Rename column"
      ]
    },
    {
      "cell_type": "code",
      "metadata": {
        "colab": {
          "base_uri": "https://localhost:8080/",
          "height": 170
        },
        "id": "aKzOeiDYHJ7O",
        "outputId": "0ecfade1-5d2d-4282-f5ed-34852114e7b7"
      },
      "source": [
        "newdf.rename({'level_0': 'Category', 'level_1': 'sub_id'}, axis=1, inplace=True)"
      ],
      "execution_count": null,
      "outputs": [
        {
          "output_type": "error",
          "ename": "NameError",
          "evalue": "ignored",
          "traceback": [
            "\u001b[0;31m---------------------------------------------------------------------------\u001b[0m",
            "\u001b[0;31mNameError\u001b[0m                                 Traceback (most recent call last)",
            "\u001b[0;32m<ipython-input-1-36afe5a4e82d>\u001b[0m in \u001b[0;36m<module>\u001b[0;34m()\u001b[0m\n\u001b[0;32m----> 1\u001b[0;31m \u001b[0mnewdf\u001b[0m\u001b[0;34m.\u001b[0m\u001b[0mrename\u001b[0m\u001b[0;34m(\u001b[0m\u001b[0;34m{\u001b[0m\u001b[0;34m'level_0'\u001b[0m\u001b[0;34m:\u001b[0m \u001b[0;34m'Category'\u001b[0m\u001b[0;34m,\u001b[0m \u001b[0;34m'level_1'\u001b[0m\u001b[0;34m:\u001b[0m \u001b[0;34m'sub_id'\u001b[0m\u001b[0;34m}\u001b[0m\u001b[0;34m,\u001b[0m \u001b[0maxis\u001b[0m\u001b[0;34m=\u001b[0m\u001b[0;36m1\u001b[0m\u001b[0;34m,\u001b[0m \u001b[0minplace\u001b[0m\u001b[0;34m=\u001b[0m\u001b[0;32mTrue\u001b[0m\u001b[0;34m)\u001b[0m\u001b[0;34m\u001b[0m\u001b[0;34m\u001b[0m\u001b[0m\n\u001b[0m",
            "\u001b[0;31mNameError\u001b[0m: name 'newdf' is not defined"
          ]
        }
      ]
    },
    {
      "cell_type": "markdown",
      "metadata": {
        "id": "TQaalus3uQrt"
      },
      "source": [
        "### Get column name "
      ]
    },
    {
      "cell_type": "code",
      "metadata": {
        "id": "98GEqslhubHg"
      },
      "source": [
        "column_name=list(df.columns.values)    # get list of header in dataframe"
      ],
      "execution_count": null,
      "outputs": []
    },
    {
      "cell_type": "markdown",
      "metadata": {
        "id": "ptJUsYeS-w8J"
      },
      "source": [
        "### List null rows & Drop null"
      ]
    },
    {
      "cell_type": "code",
      "metadata": {
        "id": "JgdpBzuP-9ZN"
      },
      "source": [
        "region_nan=region[region[\"Unnamed: 2\"].isnull()].index"
      ],
      "execution_count": null,
      "outputs": []
    },
    {
      "cell_type": "code",
      "metadata": {
        "id": "YiSPEGL6_J78"
      },
      "source": [
        "region_clean=region.drop(region_nan)"
      ],
      "execution_count": null,
      "outputs": []
    },
    {
      "cell_type": "code",
      "metadata": {
        "id": "8MlSBcYK_d7r"
      },
      "source": [
        "filtered_df = region[region['Confirmed Cases'].isnull() & region['WHO Regional Office'].isnull()].index"
      ],
      "execution_count": null,
      "outputs": []
    },
    {
      "cell_type": "markdown",
      "metadata": {
        "id": "yt4wFkhsnJPj"
      },
      "source": [
        "### chcek version pandas"
      ]
    },
    {
      "cell_type": "code",
      "metadata": {
        "id": "ix9UQnzz_N9Y"
      },
      "source": [
        ""
      ],
      "execution_count": null,
      "outputs": []
    },
    {
      "cell_type": "code",
      "metadata": {
        "id": "UeIcAtzdmCxQ",
        "colab": {
          "base_uri": "https://localhost:8080/",
          "height": 35
        },
        "outputId": "985f5174-cc0f-4fe3-8c9e-58a37a776a7a"
      },
      "source": [
        "print(pd.__version__)"
      ],
      "execution_count": null,
      "outputs": [
        {
          "output_type": "stream",
          "text": [
            "1.0.5\n"
          ],
          "name": "stdout"
        }
      ]
    },
    {
      "cell_type": "code",
      "metadata": {
        "id": "Ye_pAUmMSuc4",
        "colab": {
          "base_uri": "https://localhost:8080/",
          "height": 173
        },
        "outputId": "e4aba2bb-a6c4-4c7a-d657-ad4c524202cb"
      },
      "source": [
        "df.head(5)"
      ],
      "execution_count": null,
      "outputs": [
        {
          "output_type": "execute_result",
          "data": {
            "text/html": [
              "<div>\n",
              "<style scoped>\n",
              "    .dataframe tbody tr th:only-of-type {\n",
              "        vertical-align: middle;\n",
              "    }\n",
              "\n",
              "    .dataframe tbody tr th {\n",
              "        vertical-align: top;\n",
              "    }\n",
              "\n",
              "    .dataframe thead th {\n",
              "        text-align: right;\n",
              "    }\n",
              "</style>\n",
              "<table border=\"1\" class=\"dataframe\">\n",
              "  <thead>\n",
              "    <tr style=\"text-align: right;\">\n",
              "      <th></th>\n",
              "      <th>boto</th>\n",
              "      <th>jimbo</th>\n",
              "      <th>type</th>\n",
              "    </tr>\n",
              "  </thead>\n",
              "  <tbody>\n",
              "    <tr>\n",
              "      <th>0</th>\n",
              "      <td>1</td>\n",
              "      <td>3</td>\n",
              "      <td>a</td>\n",
              "    </tr>\n",
              "    <tr>\n",
              "      <th>1</th>\n",
              "      <td>2</td>\n",
              "      <td>4</td>\n",
              "      <td>b</td>\n",
              "    </tr>\n",
              "    <tr>\n",
              "      <th>2</th>\n",
              "      <td>3</td>\n",
              "      <td>5</td>\n",
              "      <td>c</td>\n",
              "    </tr>\n",
              "    <tr>\n",
              "      <th>3</th>\n",
              "      <td>4</td>\n",
              "      <td>6</td>\n",
              "      <td>a</td>\n",
              "    </tr>\n",
              "  </tbody>\n",
              "</table>\n",
              "</div>"
            ],
            "text/plain": [
              "   boto  jimbo type\n",
              "0     1      3    a\n",
              "1     2      4    b\n",
              "2     3      5    c\n",
              "3     4      6    a"
            ]
          },
          "metadata": {
            "tags": []
          },
          "execution_count": 8
        }
      ]
    },
    {
      "cell_type": "code",
      "metadata": {
        "id": "WTeJADeA1qFP"
      },
      "source": [
        "male=['m','M','male','man']\n",
        "female=['w','W','f','F','female']"
      ],
      "execution_count": null,
      "outputs": []
    },
    {
      "cell_type": "code",
      "metadata": {
        "id": "vKYt1xbxwILl"
      },
      "source": [
        "# ใช้ lambda และ list comprehension แปลงค่า sex ให้เป็น 0,1 \n",
        "df['sex1']=df['sex'].apply(lambda x : 1 if x in ['m','M','male','man'] else 0)"
      ],
      "execution_count": null,
      "outputs": []
    },
    {
      "cell_type": "code",
      "metadata": {
        "id": "ZSyOYc6dxE_K",
        "colab": {
          "base_uri": "https://localhost:8080/",
          "height": 290
        },
        "outputId": "66bf8254-9fe1-4b15-b797-505386d3933d"
      },
      "source": [
        "# def encodeSex(x):\n",
        "x=df['sex']\n",
        "for i,v in x.iteritems():\n",
        " print(i,v)"
      ],
      "execution_count": null,
      "outputs": [
        {
          "output_type": "stream",
          "text": [
            "0 W\n",
            "1 F\n",
            "2 f\n",
            "3 w\n",
            "4 m\n",
            "5 f\n",
            "6 f\n",
            "7 W\n",
            "8 W\n",
            "9 w\n",
            "10 m\n",
            "11 man\n",
            "12 W\n",
            "13 male\n",
            "14 w\n"
          ],
          "name": "stdout"
        }
      ]
    },
    {
      "cell_type": "markdown",
      "metadata": {
        "id": "3h7YbLPL97Ed"
      },
      "source": [
        "### Filter dataframe with values in columns"
      ]
    },
    {
      "cell_type": "code",
      "metadata": {
        "id": "bhyGzbFO-DYe",
        "colab": {
          "base_uri": "https://localhost:8080/"
        },
        "outputId": "fbd4bc6e-e988-48f3-a5c8-7aeb9b3e9c1c"
      },
      "source": [
        "df1=df[df.jimbo==6] & df[df.boto==4]\n",
        "df1"
      ],
      "execution_count": null,
      "outputs": [
        {
          "output_type": "execute_result",
          "data": {
            "text/html": [
              "<div>\n",
              "<style scoped>\n",
              "    .dataframe tbody tr th:only-of-type {\n",
              "        vertical-align: middle;\n",
              "    }\n",
              "\n",
              "    .dataframe tbody tr th {\n",
              "        vertical-align: top;\n",
              "    }\n",
              "\n",
              "    .dataframe thead th {\n",
              "        text-align: right;\n",
              "    }\n",
              "</style>\n",
              "<table border=\"1\" class=\"dataframe\">\n",
              "  <thead>\n",
              "    <tr style=\"text-align: right;\">\n",
              "      <th></th>\n",
              "      <th>boto</th>\n",
              "      <th>jimbo</th>\n",
              "    </tr>\n",
              "  </thead>\n",
              "  <tbody>\n",
              "    <tr>\n",
              "      <th>3</th>\n",
              "      <td>4</td>\n",
              "      <td>6</td>\n",
              "    </tr>\n",
              "  </tbody>\n",
              "</table>\n",
              "</div>"
            ],
            "text/plain": [
              "   boto  jimbo\n",
              "3     4      6"
            ]
          },
          "metadata": {
            "tags": []
          },
          "execution_count": 26
        }
      ]
    },
    {
      "cell_type": "code",
      "metadata": {
        "id": "oHpuQo7m_iDk"
      },
      "source": [
        "filtered_df = region[region['Confirmed Cases'].isnull() & region['WHO Regional Office'].isnull()].index"
      ],
      "execution_count": null,
      "outputs": []
    },
    {
      "cell_type": "code",
      "metadata": {
        "id": "aVGUZYTRAN1y"
      },
      "source": [
        "clean_dfx=clean_dfx[clean_dfx[\"Country/Territory/Area\"]!=\"Total\"]"
      ],
      "execution_count": null,
      "outputs": []
    },
    {
      "cell_type": "code",
      "metadata": {
        "id": "R8P3WKf9uDf7"
      },
      "source": [
        "clean_dfx=clean_dfx[clean_dfx[\"Country/Territory/Area\"].notnull()]"
      ],
      "execution_count": null,
      "outputs": []
    },
    {
      "cell_type": "markdown",
      "metadata": {
        "id": "keaCgwSa94J2"
      },
      "source": [
        "### Filter with boolean index\n",
        "\n",
        "\n",
        "\n"
      ]
    },
    {
      "cell_type": "markdown",
      "metadata": {
        "id": "T-NyR04bjFte"
      },
      "source": [
        "### for loop for Series => itteritems()\n",
        "เก็บค่า (index,value) แบบ tuple  ใช้ => for i,v in df.itteritems() ได้"
      ]
    },
    {
      "cell_type": "code",
      "metadata": {
        "id": "hKbckVBueg5l",
        "colab": {
          "base_uri": "https://localhost:8080/",
          "height": 145
        },
        "outputId": "c6badec4-1b96-468d-feb3-34549660353b"
      },
      "source": [
        "for i,v in ex.iteritems():\n",
        "  print(i,v)"
      ],
      "execution_count": null,
      "outputs": [
        {
          "output_type": "stream",
          "text": [
            "W 4\n",
            "f 3\n",
            "w 3\n",
            "m 2\n",
            "male 1\n",
            "man 1\n",
            "F 1\n"
          ],
          "name": "stdout"
        }
      ]
    },
    {
      "cell_type": "code",
      "metadata": {
        "id": "PnpDGwcc93Ki"
      },
      "source": [
        "#outlier_rows = (df['Age'] > upper_limit) | (df['Age'] < lower_limit) "
      ],
      "execution_count": null,
      "outputs": []
    },
    {
      "cell_type": "code",
      "metadata": {
        "id": "XSk7pQM-kClK",
        "colab": {
          "base_uri": "https://localhost:8080/",
          "height": 108
        },
        "outputId": "810ef058-53cd-4f73-fc9c-bc4b76d080f5"
      },
      "source": [
        "df.head(2)"
      ],
      "execution_count": null,
      "outputs": [
        {
          "output_type": "execute_result",
          "data": {
            "text/html": [
              "<div>\n",
              "<style scoped>\n",
              "    .dataframe tbody tr th:only-of-type {\n",
              "        vertical-align: middle;\n",
              "    }\n",
              "\n",
              "    .dataframe tbody tr th {\n",
              "        vertical-align: top;\n",
              "    }\n",
              "\n",
              "    .dataframe thead th {\n",
              "        text-align: right;\n",
              "    }\n",
              "</style>\n",
              "<table border=\"1\" class=\"dataframe\">\n",
              "  <thead>\n",
              "    <tr style=\"text-align: right;\">\n",
              "      <th></th>\n",
              "      <th>sex</th>\n",
              "      <th>sex1</th>\n",
              "      <th>gender</th>\n",
              "    </tr>\n",
              "  </thead>\n",
              "  <tbody>\n",
              "    <tr>\n",
              "      <th>0</th>\n",
              "      <td>W</td>\n",
              "      <td>0</td>\n",
              "      <td>female</td>\n",
              "    </tr>\n",
              "    <tr>\n",
              "      <th>1</th>\n",
              "      <td>F</td>\n",
              "      <td>0</td>\n",
              "      <td>female</td>\n",
              "    </tr>\n",
              "  </tbody>\n",
              "</table>\n",
              "</div>"
            ],
            "text/plain": [
              "  sex  sex1  gender\n",
              "0   W     0  female\n",
              "1   F     0  female"
            ]
          },
          "metadata": {
            "tags": []
          },
          "execution_count": 34
        }
      ]
    },
    {
      "cell_type": "code",
      "metadata": {
        "id": "WFj4RvfwkSxN",
        "colab": {
          "base_uri": "https://localhost:8080/",
          "height": 498
        },
        "outputId": "e4b10927-4f70-4ab9-a2df-2bed220c2ccc"
      },
      "source": [
        "df"
      ],
      "execution_count": null,
      "outputs": [
        {
          "output_type": "execute_result",
          "data": {
            "text/html": [
              "<div>\n",
              "<style scoped>\n",
              "    .dataframe tbody tr th:only-of-type {\n",
              "        vertical-align: middle;\n",
              "    }\n",
              "\n",
              "    .dataframe tbody tr th {\n",
              "        vertical-align: top;\n",
              "    }\n",
              "\n",
              "    .dataframe thead th {\n",
              "        text-align: right;\n",
              "    }\n",
              "</style>\n",
              "<table border=\"1\" class=\"dataframe\">\n",
              "  <thead>\n",
              "    <tr style=\"text-align: right;\">\n",
              "      <th></th>\n",
              "      <th>sex</th>\n",
              "      <th>sex1</th>\n",
              "      <th>gender</th>\n",
              "    </tr>\n",
              "  </thead>\n",
              "  <tbody>\n",
              "    <tr>\n",
              "      <th>0</th>\n",
              "      <td>W</td>\n",
              "      <td>0</td>\n",
              "      <td>female</td>\n",
              "    </tr>\n",
              "    <tr>\n",
              "      <th>1</th>\n",
              "      <td>F</td>\n",
              "      <td>0</td>\n",
              "      <td>female</td>\n",
              "    </tr>\n",
              "    <tr>\n",
              "      <th>2</th>\n",
              "      <td>f</td>\n",
              "      <td>0</td>\n",
              "      <td>female</td>\n",
              "    </tr>\n",
              "    <tr>\n",
              "      <th>3</th>\n",
              "      <td>w</td>\n",
              "      <td>0</td>\n",
              "      <td>female</td>\n",
              "    </tr>\n",
              "    <tr>\n",
              "      <th>4</th>\n",
              "      <td>m</td>\n",
              "      <td>1</td>\n",
              "      <td>male</td>\n",
              "    </tr>\n",
              "    <tr>\n",
              "      <th>5</th>\n",
              "      <td>f</td>\n",
              "      <td>0</td>\n",
              "      <td>female</td>\n",
              "    </tr>\n",
              "    <tr>\n",
              "      <th>6</th>\n",
              "      <td>f</td>\n",
              "      <td>0</td>\n",
              "      <td>female</td>\n",
              "    </tr>\n",
              "    <tr>\n",
              "      <th>7</th>\n",
              "      <td>W</td>\n",
              "      <td>0</td>\n",
              "      <td>female</td>\n",
              "    </tr>\n",
              "    <tr>\n",
              "      <th>8</th>\n",
              "      <td>W</td>\n",
              "      <td>0</td>\n",
              "      <td>female</td>\n",
              "    </tr>\n",
              "    <tr>\n",
              "      <th>9</th>\n",
              "      <td>w</td>\n",
              "      <td>0</td>\n",
              "      <td>female</td>\n",
              "    </tr>\n",
              "    <tr>\n",
              "      <th>10</th>\n",
              "      <td>m</td>\n",
              "      <td>1</td>\n",
              "      <td>male</td>\n",
              "    </tr>\n",
              "    <tr>\n",
              "      <th>11</th>\n",
              "      <td>man</td>\n",
              "      <td>1</td>\n",
              "      <td>male</td>\n",
              "    </tr>\n",
              "    <tr>\n",
              "      <th>12</th>\n",
              "      <td>W</td>\n",
              "      <td>0</td>\n",
              "      <td>female</td>\n",
              "    </tr>\n",
              "    <tr>\n",
              "      <th>13</th>\n",
              "      <td>male</td>\n",
              "      <td>1</td>\n",
              "      <td>male</td>\n",
              "    </tr>\n",
              "    <tr>\n",
              "      <th>14</th>\n",
              "      <td>w</td>\n",
              "      <td>0</td>\n",
              "      <td>female</td>\n",
              "    </tr>\n",
              "  </tbody>\n",
              "</table>\n",
              "</div>"
            ],
            "text/plain": [
              "     sex  sex1  gender\n",
              "0      W     0  female\n",
              "1      F     0  female\n",
              "2      f     0  female\n",
              "3      w     0  female\n",
              "4      m     1    male\n",
              "5      f     0  female\n",
              "6      f     0  female\n",
              "7      W     0  female\n",
              "8      W     0  female\n",
              "9      w     0  female\n",
              "10     m     1    male\n",
              "11   man     1    male\n",
              "12     W     0  female\n",
              "13  male     1    male\n",
              "14     w     0  female"
            ]
          },
          "metadata": {
            "tags": []
          },
          "execution_count": 35
        }
      ]
    },
    {
      "cell_type": "code",
      "metadata": {
        "id": "9jKh53cikVFC",
        "colab": {
          "base_uri": "https://localhost:8080/",
          "height": 378
        },
        "outputId": "b56f7ff6-5495-4c69-ec37-0c108bd2a0ab"
      },
      "source": [
        "# boolean mask กรองเอาแถวที่ sex1==0 เท่านั้น\n",
        "mask=df['sex1']==0\n",
        "df[mask] \n"
      ],
      "execution_count": null,
      "outputs": [
        {
          "output_type": "execute_result",
          "data": {
            "text/html": [
              "<div>\n",
              "<style scoped>\n",
              "    .dataframe tbody tr th:only-of-type {\n",
              "        vertical-align: middle;\n",
              "    }\n",
              "\n",
              "    .dataframe tbody tr th {\n",
              "        vertical-align: top;\n",
              "    }\n",
              "\n",
              "    .dataframe thead th {\n",
              "        text-align: right;\n",
              "    }\n",
              "</style>\n",
              "<table border=\"1\" class=\"dataframe\">\n",
              "  <thead>\n",
              "    <tr style=\"text-align: right;\">\n",
              "      <th></th>\n",
              "      <th>sex</th>\n",
              "      <th>sex1</th>\n",
              "      <th>gender</th>\n",
              "    </tr>\n",
              "  </thead>\n",
              "  <tbody>\n",
              "    <tr>\n",
              "      <th>0</th>\n",
              "      <td>W</td>\n",
              "      <td>0</td>\n",
              "      <td>female</td>\n",
              "    </tr>\n",
              "    <tr>\n",
              "      <th>1</th>\n",
              "      <td>F</td>\n",
              "      <td>0</td>\n",
              "      <td>female</td>\n",
              "    </tr>\n",
              "    <tr>\n",
              "      <th>2</th>\n",
              "      <td>f</td>\n",
              "      <td>0</td>\n",
              "      <td>female</td>\n",
              "    </tr>\n",
              "    <tr>\n",
              "      <th>3</th>\n",
              "      <td>w</td>\n",
              "      <td>0</td>\n",
              "      <td>female</td>\n",
              "    </tr>\n",
              "    <tr>\n",
              "      <th>5</th>\n",
              "      <td>f</td>\n",
              "      <td>0</td>\n",
              "      <td>female</td>\n",
              "    </tr>\n",
              "    <tr>\n",
              "      <th>6</th>\n",
              "      <td>f</td>\n",
              "      <td>0</td>\n",
              "      <td>female</td>\n",
              "    </tr>\n",
              "    <tr>\n",
              "      <th>7</th>\n",
              "      <td>W</td>\n",
              "      <td>0</td>\n",
              "      <td>female</td>\n",
              "    </tr>\n",
              "    <tr>\n",
              "      <th>8</th>\n",
              "      <td>W</td>\n",
              "      <td>0</td>\n",
              "      <td>female</td>\n",
              "    </tr>\n",
              "    <tr>\n",
              "      <th>9</th>\n",
              "      <td>w</td>\n",
              "      <td>0</td>\n",
              "      <td>female</td>\n",
              "    </tr>\n",
              "    <tr>\n",
              "      <th>12</th>\n",
              "      <td>W</td>\n",
              "      <td>0</td>\n",
              "      <td>female</td>\n",
              "    </tr>\n",
              "    <tr>\n",
              "      <th>14</th>\n",
              "      <td>w</td>\n",
              "      <td>0</td>\n",
              "      <td>female</td>\n",
              "    </tr>\n",
              "  </tbody>\n",
              "</table>\n",
              "</div>"
            ],
            "text/plain": [
              "   sex  sex1  gender\n",
              "0    W     0  female\n",
              "1    F     0  female\n",
              "2    f     0  female\n",
              "3    w     0  female\n",
              "5    f     0  female\n",
              "6    f     0  female\n",
              "7    W     0  female\n",
              "8    W     0  female\n",
              "9    w     0  female\n",
              "12   W     0  female\n",
              "14   w     0  female"
            ]
          },
          "metadata": {
            "tags": []
          },
          "execution_count": 44
        }
      ]
    },
    {
      "cell_type": "markdown",
      "metadata": {
        "id": "vK44-5SDGNKg"
      },
      "source": [
        "Settype to Cagegory"
      ]
    },
    {
      "cell_type": "code",
      "metadata": {
        "id": "tC5mqNMlGLY5"
      },
      "source": [
        "df[\"Status\"] = df[\"Status\"].astype(\"category\")\n",
        "df[\"Status\"].cat.set_categories([\"won\",\"pending\",\"presented\",\"declined\"],inplace=True)"
      ],
      "execution_count": null,
      "outputs": []
    },
    {
      "cell_type": "markdown",
      "metadata": {
        "id": "LRDREBgAAuzA"
      },
      "source": [
        "### Groupby"
      ]
    },
    {
      "cell_type": "code",
      "metadata": {
        "id": "YI02akN_A2Ni",
        "colab": {
          "base_uri": "https://localhost:8080/",
          "height": 138
        },
        "outputId": "e2a5a4ab-bef7-4944-e9fd-9d7d0723bd9c"
      },
      "source": [
        "df.groupby('type').count()[['boto']]"
      ],
      "execution_count": null,
      "outputs": [
        {
          "output_type": "execute_result",
          "data": {
            "text/html": [
              "<div>\n",
              "<style scoped>\n",
              "    .dataframe tbody tr th:only-of-type {\n",
              "        vertical-align: middle;\n",
              "    }\n",
              "\n",
              "    .dataframe tbody tr th {\n",
              "        vertical-align: top;\n",
              "    }\n",
              "\n",
              "    .dataframe thead th {\n",
              "        text-align: right;\n",
              "    }\n",
              "</style>\n",
              "<table border=\"1\" class=\"dataframe\">\n",
              "  <thead>\n",
              "    <tr style=\"text-align: right;\">\n",
              "      <th></th>\n",
              "      <th>boto</th>\n",
              "    </tr>\n",
              "    <tr>\n",
              "      <th>type</th>\n",
              "      <th></th>\n",
              "    </tr>\n",
              "  </thead>\n",
              "  <tbody>\n",
              "    <tr>\n",
              "      <th>a</th>\n",
              "      <td>3</td>\n",
              "    </tr>\n",
              "    <tr>\n",
              "      <th>b</th>\n",
              "      <td>1</td>\n",
              "    </tr>\n",
              "  </tbody>\n",
              "</table>\n",
              "</div>"
            ],
            "text/plain": [
              "      boto\n",
              "type      \n",
              "a        3\n",
              "b        1"
            ]
          },
          "metadata": {
            "tags": []
          },
          "execution_count": 30
        }
      ]
    },
    {
      "cell_type": "markdown",
      "metadata": {
        "id": "a9PcQ3vUQ_0m"
      },
      "source": [
        "### labmda function with if-else"
      ]
    },
    {
      "cell_type": "code",
      "metadata": {
        "id": "NENDQcfWB35n"
      },
      "source": [
        "# return ค่า index ของ tuple ตามค่า value ที่ป้อนเข้าไป (index,value) eg:(male,1)\n",
        "def getValue(q):\n",
        "  for i,v in ex.iteritems():\n",
        "    if v==q:\n",
        "      return i"
      ],
      "execution_count": null,
      "outputs": []
    },
    {
      "cell_type": "code",
      "metadata": {
        "id": "dfn23fuG3IRL",
        "colab": {
          "base_uri": "https://localhost:8080/",
          "height": 35
        },
        "outputId": "271ddb91-c8b6-4cf4-fd03-eb8047046c0f"
      },
      "source": [
        "botx=lambda x,y: (x+y) if x<y else (x-y if x>y  else x*y)\n",
        "botx(9,9)"
      ],
      "execution_count": null,
      "outputs": [
        {
          "output_type": "execute_result",
          "data": {
            "text/plain": [
              "81"
            ]
          },
          "metadata": {
            "tags": []
          },
          "execution_count": 18
        }
      ]
    },
    {
      "cell_type": "code",
      "metadata": {
        "id": "JyVcdbCQq6Zl",
        "colab": {
          "base_uri": "https://localhost:8080/",
          "height": 35
        },
        "outputId": "7473ac6d-e199-4f4d-ab04-ef8bb41ccaaa"
      },
      "source": [
        "print(getValue(ex.max()),ex.max())"
      ],
      "execution_count": null,
      "outputs": [
        {
          "output_type": "stream",
          "text": [
            "W 4\n"
          ],
          "name": "stdout"
        }
      ]
    },
    {
      "cell_type": "code",
      "metadata": {
        "id": "8z6sK4kOBKhK"
      },
      "source": [
        "ex1=pd.DataFrame(ex).reset_index()"
      ],
      "execution_count": null,
      "outputs": []
    },
    {
      "cell_type": "code",
      "metadata": {
        "id": "dr0zdA00Bj24",
        "colab": {
          "base_uri": "https://localhost:8080/",
          "height": 258
        },
        "outputId": "550e9195-37db-4061-f6ec-fd867bf91b1e"
      },
      "source": [
        "ex1"
      ],
      "execution_count": null,
      "outputs": [
        {
          "output_type": "execute_result",
          "data": {
            "text/html": [
              "<div>\n",
              "<style scoped>\n",
              "    .dataframe tbody tr th:only-of-type {\n",
              "        vertical-align: middle;\n",
              "    }\n",
              "\n",
              "    .dataframe tbody tr th {\n",
              "        vertical-align: top;\n",
              "    }\n",
              "\n",
              "    .dataframe thead th {\n",
              "        text-align: right;\n",
              "    }\n",
              "</style>\n",
              "<table border=\"1\" class=\"dataframe\">\n",
              "  <thead>\n",
              "    <tr style=\"text-align: right;\">\n",
              "      <th></th>\n",
              "      <th>index</th>\n",
              "      <th>sex</th>\n",
              "    </tr>\n",
              "  </thead>\n",
              "  <tbody>\n",
              "    <tr>\n",
              "      <th>0</th>\n",
              "      <td>W</td>\n",
              "      <td>4</td>\n",
              "    </tr>\n",
              "    <tr>\n",
              "      <th>1</th>\n",
              "      <td>f</td>\n",
              "      <td>3</td>\n",
              "    </tr>\n",
              "    <tr>\n",
              "      <th>2</th>\n",
              "      <td>w</td>\n",
              "      <td>3</td>\n",
              "    </tr>\n",
              "    <tr>\n",
              "      <th>3</th>\n",
              "      <td>m</td>\n",
              "      <td>2</td>\n",
              "    </tr>\n",
              "    <tr>\n",
              "      <th>4</th>\n",
              "      <td>male</td>\n",
              "      <td>1</td>\n",
              "    </tr>\n",
              "    <tr>\n",
              "      <th>5</th>\n",
              "      <td>man</td>\n",
              "      <td>1</td>\n",
              "    </tr>\n",
              "    <tr>\n",
              "      <th>6</th>\n",
              "      <td>F</td>\n",
              "      <td>1</td>\n",
              "    </tr>\n",
              "  </tbody>\n",
              "</table>\n",
              "</div>"
            ],
            "text/plain": [
              "  index  sex\n",
              "0     W    4\n",
              "1     f    3\n",
              "2     w    3\n",
              "3     m    2\n",
              "4  male    1\n",
              "5   man    1\n",
              "6     F    1"
            ]
          },
          "metadata": {
            "tags": []
          },
          "execution_count": 21
        }
      ]
    },
    {
      "cell_type": "code",
      "metadata": {
        "id": "jdErGOv7EowL",
        "colab": {
          "base_uri": "https://localhost:8080/",
          "height": 35
        },
        "outputId": "4d1c8e56-042a-49cd-ed99-19160481d15d"
      },
      "source": [
        "ex1['sex'].max()"
      ],
      "execution_count": null,
      "outputs": [
        {
          "output_type": "execute_result",
          "data": {
            "text/plain": [
              "4"
            ]
          },
          "metadata": {
            "tags": []
          },
          "execution_count": 22
        }
      ]
    },
    {
      "cell_type": "code",
      "metadata": {
        "id": "lrHXq60WFkU_",
        "colab": {
          "base_uri": "https://localhost:8080/",
          "height": 35
        },
        "outputId": "2072ac0d-0de0-4108-86d9-a3e790ae12be"
      },
      "source": [
        "ex1['index'].max()"
      ],
      "execution_count": null,
      "outputs": [
        {
          "output_type": "execute_result",
          "data": {
            "application/vnd.google.colaboratory.intrinsic+json": {
              "type": "string"
            },
            "text/plain": [
              "'w'"
            ]
          },
          "metadata": {
            "tags": []
          },
          "execution_count": 23
        }
      ]
    },
    {
      "cell_type": "code",
      "metadata": {
        "id": "Z6lfO6AQFUfE",
        "colab": {
          "base_uri": "https://localhost:8080/",
          "height": 54
        },
        "outputId": "e9bea060-50b0-496a-a889-4d2fd5c36cec"
      },
      "source": [
        "ex1['sex'].mode() # return มาเป็น series"
      ],
      "execution_count": null,
      "outputs": [
        {
          "output_type": "execute_result",
          "data": {
            "text/plain": [
              "0    1\n",
              "dtype: int64"
            ]
          },
          "metadata": {
            "tags": []
          },
          "execution_count": 24
        }
      ]
    },
    {
      "cell_type": "code",
      "metadata": {
        "id": "GFulkgSTOOvT",
        "colab": {
          "base_uri": "https://localhost:8080/",
          "height": 35
        },
        "outputId": "0ade380b-f6c3-46a6-d6c0-980f6d68d391"
      },
      "source": [
        "ex1['sex'].mode()[0] # หาค่าที่พบบ่อยที่สุด"
      ],
      "execution_count": null,
      "outputs": [
        {
          "output_type": "execute_result",
          "data": {
            "text/plain": [
              "1"
            ]
          },
          "metadata": {
            "tags": []
          },
          "execution_count": 25
        }
      ]
    },
    {
      "cell_type": "markdown",
      "metadata": {
        "id": "92ZrVzn-9eEk"
      },
      "source": [
        "### List values of each category data by using => df['col1'].value_counts()"
      ]
    },
    {
      "cell_type": "code",
      "metadata": {
        "id": "R5Ob0jv89Z7O",
        "colab": {
          "base_uri": "https://localhost:8080/",
          "height": 35
        },
        "outputId": "13ab1428-d878-4f39-8c04-d7f850842018"
      },
      "source": [
        "ex=df['sex'].value_counts() # ตรวจสอบว่า column Embarked มีค่าใด อย่างละเท่าไหร่บ้าง\n",
        "ex.index"
      ],
      "execution_count": null,
      "outputs": [
        {
          "output_type": "execute_result",
          "data": {
            "text/plain": [
              "Index(['W', 'f', 'w', 'm', 'male', 'man', 'F'], dtype='object')"
            ]
          },
          "metadata": {
            "tags": []
          },
          "execution_count": 15
        }
      ]
    },
    {
      "cell_type": "markdown",
      "metadata": {
        "id": "MNrIyyNATC6D"
      },
      "source": [
        "### np.where \n",
        "กำหนดเงื่อนไขในการจัดการ series"
      ]
    },
    {
      "cell_type": "code",
      "metadata": {
        "id": "rdk75qOCRLTE"
      },
      "source": [
        "# if (sex1==0) \"femail\" else \"male\"\n",
        "df['gender'] = np.where(df['sex1']==0, \"female\",\"male\")"
      ],
      "execution_count": null,
      "outputs": []
    },
    {
      "cell_type": "code",
      "metadata": {
        "id": "sPRw1_Vp_2Wp"
      },
      "source": [
        "# สามารถใช้ funcion ในคำสั่่งได้ เช่น count,sum,max \n",
        "# คำสั่งนี้ให้ผลแบบ aggregation จึงต้องใช้คำสั่งกลุ่ม agg  เช่น max,sum,min,avg เป็นต้น\n",
        "ge=np.where(df.columns=='sex1', df.sex1.sum(),np.nan)"
      ],
      "execution_count": null,
      "outputs": []
    },
    {
      "cell_type": "code",
      "metadata": {
        "id": "nryXFSBfS_zp",
        "colab": {
          "base_uri": "https://localhost:8080/",
          "height": 498
        },
        "outputId": "f335b6e3-84e8-436b-d626-41858846eb7b"
      },
      "source": [
        "df"
      ],
      "execution_count": null,
      "outputs": [
        {
          "output_type": "execute_result",
          "data": {
            "text/html": [
              "<div>\n",
              "<style scoped>\n",
              "    .dataframe tbody tr th:only-of-type {\n",
              "        vertical-align: middle;\n",
              "    }\n",
              "\n",
              "    .dataframe tbody tr th {\n",
              "        vertical-align: top;\n",
              "    }\n",
              "\n",
              "    .dataframe thead th {\n",
              "        text-align: right;\n",
              "    }\n",
              "</style>\n",
              "<table border=\"1\" class=\"dataframe\">\n",
              "  <thead>\n",
              "    <tr style=\"text-align: right;\">\n",
              "      <th></th>\n",
              "      <th>sex</th>\n",
              "      <th>sex1</th>\n",
              "      <th>gender</th>\n",
              "    </tr>\n",
              "  </thead>\n",
              "  <tbody>\n",
              "    <tr>\n",
              "      <th>0</th>\n",
              "      <td>W</td>\n",
              "      <td>0</td>\n",
              "      <td>female</td>\n",
              "    </tr>\n",
              "    <tr>\n",
              "      <th>1</th>\n",
              "      <td>F</td>\n",
              "      <td>0</td>\n",
              "      <td>female</td>\n",
              "    </tr>\n",
              "    <tr>\n",
              "      <th>2</th>\n",
              "      <td>f</td>\n",
              "      <td>0</td>\n",
              "      <td>female</td>\n",
              "    </tr>\n",
              "    <tr>\n",
              "      <th>3</th>\n",
              "      <td>w</td>\n",
              "      <td>0</td>\n",
              "      <td>female</td>\n",
              "    </tr>\n",
              "    <tr>\n",
              "      <th>4</th>\n",
              "      <td>m</td>\n",
              "      <td>1</td>\n",
              "      <td>male</td>\n",
              "    </tr>\n",
              "    <tr>\n",
              "      <th>5</th>\n",
              "      <td>f</td>\n",
              "      <td>0</td>\n",
              "      <td>female</td>\n",
              "    </tr>\n",
              "    <tr>\n",
              "      <th>6</th>\n",
              "      <td>f</td>\n",
              "      <td>0</td>\n",
              "      <td>female</td>\n",
              "    </tr>\n",
              "    <tr>\n",
              "      <th>7</th>\n",
              "      <td>W</td>\n",
              "      <td>0</td>\n",
              "      <td>female</td>\n",
              "    </tr>\n",
              "    <tr>\n",
              "      <th>8</th>\n",
              "      <td>W</td>\n",
              "      <td>0</td>\n",
              "      <td>female</td>\n",
              "    </tr>\n",
              "    <tr>\n",
              "      <th>9</th>\n",
              "      <td>w</td>\n",
              "      <td>0</td>\n",
              "      <td>female</td>\n",
              "    </tr>\n",
              "    <tr>\n",
              "      <th>10</th>\n",
              "      <td>m</td>\n",
              "      <td>1</td>\n",
              "      <td>male</td>\n",
              "    </tr>\n",
              "    <tr>\n",
              "      <th>11</th>\n",
              "      <td>man</td>\n",
              "      <td>1</td>\n",
              "      <td>male</td>\n",
              "    </tr>\n",
              "    <tr>\n",
              "      <th>12</th>\n",
              "      <td>W</td>\n",
              "      <td>0</td>\n",
              "      <td>female</td>\n",
              "    </tr>\n",
              "    <tr>\n",
              "      <th>13</th>\n",
              "      <td>male</td>\n",
              "      <td>1</td>\n",
              "      <td>male</td>\n",
              "    </tr>\n",
              "    <tr>\n",
              "      <th>14</th>\n",
              "      <td>w</td>\n",
              "      <td>0</td>\n",
              "      <td>female</td>\n",
              "    </tr>\n",
              "  </tbody>\n",
              "</table>\n",
              "</div>"
            ],
            "text/plain": [
              "     sex  sex1  gender\n",
              "0      W     0  female\n",
              "1      F     0  female\n",
              "2      f     0  female\n",
              "3      w     0  female\n",
              "4      m     1    male\n",
              "5      f     0  female\n",
              "6      f     0  female\n",
              "7      W     0  female\n",
              "8      W     0  female\n",
              "9      w     0  female\n",
              "10     m     1    male\n",
              "11   man     1    male\n",
              "12     W     0  female\n",
              "13  male     1    male\n",
              "14     w     0  female"
            ]
          },
          "metadata": {
            "tags": []
          },
          "execution_count": 30
        }
      ]
    },
    {
      "cell_type": "markdown",
      "metadata": {
        "id": "VWYZNS3ps1TF"
      },
      "source": [
        "## Random"
      ]
    },
    {
      "cell_type": "markdown",
      "metadata": {
        "id": "wYL4zLu-tkvy"
      },
      "source": [
        "### **Random with bias/weight**"
      ]
    },
    {
      "cell_type": "code",
      "metadata": {
        "id": "I45G_Cecsx1O",
        "colab": {
          "base_uri": "https://localhost:8080/",
          "height": 35
        },
        "outputId": "41fae799-06f8-484f-cbaa-2c047175aa62"
      },
      "source": [
        "#random\n",
        "pdt=['Credit card','Mortgage','Student loan','Consumer Loan','Vehicle loan','Prepaid card','Other financial service']\n",
        "probability = [0.4,0.2,0.1,0.15,0.05,0.09,0.01]\n",
        "sum(probability)"
      ],
      "execution_count": null,
      "outputs": [
        {
          "output_type": "execute_result",
          "data": {
            "text/plain": [
              "1.0"
            ]
          },
          "metadata": {
            "tags": []
          },
          "execution_count": 1
        }
      ]
    },
    {
      "cell_type": "code",
      "metadata": {
        "id": "zYqPaOJgtArJ"
      },
      "source": [
        "# Function create list with bias or weight\n",
        "def biase(lst,probability):\n",
        "    zipped = zip(lst,probability)\n",
        "    lst = [[i[0]] * int(i[1]*100) for i in zipped]\n",
        "    new = [b for i in lst for b in i]\n",
        "    return new"
      ],
      "execution_count": null,
      "outputs": []
    },
    {
      "cell_type": "code",
      "metadata": {
        "id": "D1z72qR1tYeL"
      },
      "source": [
        "# Return list of product\n",
        "list_pdt=[random.choice(biase(pdt,probability)) for i in  range(1296675)]\n",
        "\n"
      ],
      "execution_count": null,
      "outputs": []
    },
    {
      "cell_type": "markdown",
      "metadata": {
        "id": "2iiZrn3kRLkJ"
      },
      "source": [
        "## Rename column"
      ]
    },
    {
      "cell_type": "code",
      "metadata": {
        "id": "bCEIUGFVRPZl"
      },
      "source": [
        "df.rename(columns={\"A\": \"a\", \"B\": \"c\"})"
      ],
      "execution_count": null,
      "outputs": []
    },
    {
      "cell_type": "markdown",
      "metadata": {
        "id": "FPdckiRj8QZv"
      },
      "source": [
        "### Select & Query\n",
        "\n",
        "https://kanoki.org/2020/01/21/pandas-dataframe-filter-with-multiple-conditions/"
      ]
    },
    {
      "cell_type": "code",
      "metadata": {
        "id": "GBB_RFl98VDp"
      },
      "source": [
        "df_new = df[(df.zscore>-3) & (df.zscore<3)]"
      ],
      "execution_count": null,
      "outputs": []
    },
    {
      "cell_type": "code",
      "metadata": {
        "id": "PmS09LwF8alw"
      },
      "source": [
        "clus1=kmean_results.query('JobRole == \"Sales Executive\" & Cluster==\"Cluster 1\"')"
      ],
      "execution_count": null,
      "outputs": []
    },
    {
      "cell_type": "code",
      "metadata": {
        "id": "Qqlbqeg2kA78"
      },
      "source": [
        "dfnew1=df.query('Company in [\"BANK OF AMERICA, NATIONAL ASSOCIATION\",\"WELLS FARGO & COMPANY\"]')"
      ],
      "execution_count": null,
      "outputs": []
    },
    {
      "cell_type": "markdown",
      "metadata": {
        "id": "yrPfuK-k7QFe"
      },
      "source": [
        "### Sorting"
      ]
    },
    {
      "cell_type": "code",
      "metadata": {
        "id": "iPQnHsSH7Unv",
        "colab": {
          "base_uri": "https://localhost:8080/",
          "height": 168
        },
        "outputId": "fb6d5b8d-cf87-4131-a900-c50b02a418f9"
      },
      "source": [
        "df.sort_values(by=\"boto\",ascending=False)"
      ],
      "execution_count": null,
      "outputs": [
        {
          "output_type": "execute_result",
          "data": {
            "text/html": [
              "<div>\n",
              "<style scoped>\n",
              "    .dataframe tbody tr th:only-of-type {\n",
              "        vertical-align: middle;\n",
              "    }\n",
              "\n",
              "    .dataframe tbody tr th {\n",
              "        vertical-align: top;\n",
              "    }\n",
              "\n",
              "    .dataframe thead th {\n",
              "        text-align: right;\n",
              "    }\n",
              "</style>\n",
              "<table border=\"1\" class=\"dataframe\">\n",
              "  <thead>\n",
              "    <tr style=\"text-align: right;\">\n",
              "      <th></th>\n",
              "      <th>boto</th>\n",
              "    </tr>\n",
              "  </thead>\n",
              "  <tbody>\n",
              "    <tr>\n",
              "      <th>3</th>\n",
              "      <td>4</td>\n",
              "    </tr>\n",
              "    <tr>\n",
              "      <th>2</th>\n",
              "      <td>3</td>\n",
              "    </tr>\n",
              "    <tr>\n",
              "      <th>1</th>\n",
              "      <td>2</td>\n",
              "    </tr>\n",
              "    <tr>\n",
              "      <th>0</th>\n",
              "      <td>1</td>\n",
              "    </tr>\n",
              "  </tbody>\n",
              "</table>\n",
              "</div>"
            ],
            "text/plain": [
              "   boto\n",
              "3     4\n",
              "2     3\n",
              "1     2\n",
              "0     1"
            ]
          },
          "metadata": {
            "tags": []
          },
          "execution_count": 7
        }
      ]
    },
    {
      "cell_type": "code",
      "metadata": {
        "id": "IulLHjEt7aMH"
      },
      "source": [
        ""
      ],
      "execution_count": null,
      "outputs": []
    },
    {
      "cell_type": "markdown",
      "metadata": {
        "id": "4nRKxNB2FDE_"
      },
      "source": [
        "### Sub-select columns to dataframe  => df[[ 'col1' , 'col2' ]]"
      ]
    },
    {
      "cell_type": "markdown",
      "metadata": {
        "id": "lqeei90n8JUH"
      },
      "source": [
        "![2020-08-23_111631.png](data:image/png;base64,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)"
      ]
    },
    {
      "cell_type": "code",
      "metadata": {
        "id": "Mm0Uij9Z8TLj",
        "colab": {
          "base_uri": "https://localhost:8080/",
          "height": 35
        },
        "outputId": "10bbd985-bf7b-4856-a402-81fe79e65876"
      },
      "source": [
        "aa=['sex','sex1']\n",
        "gc=[i for i in aa]\n",
        "ge=np.where(df.columns=='sex1', df.sex1.sum(),np.nan)\n",
        "ge"
      ],
      "execution_count": null,
      "outputs": [
        {
          "output_type": "execute_result",
          "data": {
            "text/plain": [
              "array([nan,  4., nan])"
            ]
          },
          "metadata": {
            "tags": []
          },
          "execution_count": 31
        }
      ]
    },
    {
      "cell_type": "code",
      "metadata": {
        "id": "xpSwNL1a81JH",
        "colab": {
          "base_uri": "https://localhost:8080/",
          "height": 498
        },
        "outputId": "58d78f88-121e-4855-8549-f26beda2f463"
      },
      "source": [
        "df[gc]"
      ],
      "execution_count": null,
      "outputs": [
        {
          "output_type": "execute_result",
          "data": {
            "text/html": [
              "<div>\n",
              "<style scoped>\n",
              "    .dataframe tbody tr th:only-of-type {\n",
              "        vertical-align: middle;\n",
              "    }\n",
              "\n",
              "    .dataframe tbody tr th {\n",
              "        vertical-align: top;\n",
              "    }\n",
              "\n",
              "    .dataframe thead th {\n",
              "        text-align: right;\n",
              "    }\n",
              "</style>\n",
              "<table border=\"1\" class=\"dataframe\">\n",
              "  <thead>\n",
              "    <tr style=\"text-align: right;\">\n",
              "      <th></th>\n",
              "      <th>sex</th>\n",
              "      <th>sex1</th>\n",
              "    </tr>\n",
              "  </thead>\n",
              "  <tbody>\n",
              "    <tr>\n",
              "      <th>0</th>\n",
              "      <td>W</td>\n",
              "      <td>0</td>\n",
              "    </tr>\n",
              "    <tr>\n",
              "      <th>1</th>\n",
              "      <td>F</td>\n",
              "      <td>0</td>\n",
              "    </tr>\n",
              "    <tr>\n",
              "      <th>2</th>\n",
              "      <td>f</td>\n",
              "      <td>0</td>\n",
              "    </tr>\n",
              "    <tr>\n",
              "      <th>3</th>\n",
              "      <td>w</td>\n",
              "      <td>0</td>\n",
              "    </tr>\n",
              "    <tr>\n",
              "      <th>4</th>\n",
              "      <td>m</td>\n",
              "      <td>1</td>\n",
              "    </tr>\n",
              "    <tr>\n",
              "      <th>5</th>\n",
              "      <td>f</td>\n",
              "      <td>0</td>\n",
              "    </tr>\n",
              "    <tr>\n",
              "      <th>6</th>\n",
              "      <td>f</td>\n",
              "      <td>0</td>\n",
              "    </tr>\n",
              "    <tr>\n",
              "      <th>7</th>\n",
              "      <td>W</td>\n",
              "      <td>0</td>\n",
              "    </tr>\n",
              "    <tr>\n",
              "      <th>8</th>\n",
              "      <td>W</td>\n",
              "      <td>0</td>\n",
              "    </tr>\n",
              "    <tr>\n",
              "      <th>9</th>\n",
              "      <td>w</td>\n",
              "      <td>0</td>\n",
              "    </tr>\n",
              "    <tr>\n",
              "      <th>10</th>\n",
              "      <td>m</td>\n",
              "      <td>1</td>\n",
              "    </tr>\n",
              "    <tr>\n",
              "      <th>11</th>\n",
              "      <td>man</td>\n",
              "      <td>1</td>\n",
              "    </tr>\n",
              "    <tr>\n",
              "      <th>12</th>\n",
              "      <td>W</td>\n",
              "      <td>0</td>\n",
              "    </tr>\n",
              "    <tr>\n",
              "      <th>13</th>\n",
              "      <td>male</td>\n",
              "      <td>1</td>\n",
              "    </tr>\n",
              "    <tr>\n",
              "      <th>14</th>\n",
              "      <td>w</td>\n",
              "      <td>0</td>\n",
              "    </tr>\n",
              "  </tbody>\n",
              "</table>\n",
              "</div>"
            ],
            "text/plain": [
              "     sex  sex1\n",
              "0      W     0\n",
              "1      F     0\n",
              "2      f     0\n",
              "3      w     0\n",
              "4      m     1\n",
              "5      f     0\n",
              "6      f     0\n",
              "7      W     0\n",
              "8      W     0\n",
              "9      w     0\n",
              "10     m     1\n",
              "11   man     1\n",
              "12     W     0\n",
              "13  male     1\n",
              "14     w     0"
            ]
          },
          "metadata": {
            "tags": []
          },
          "execution_count": 32
        }
      ]
    },
    {
      "cell_type": "markdown",
      "metadata": {
        "id": "bg2A_UsJvj2B"
      },
      "source": [
        "### zip() and list()"
      ]
    },
    {
      "cell_type": "code",
      "metadata": {
        "id": "ihZp0M5RdNtW"
      },
      "source": [
        "sex =('m','M','male','man','w','W','f','F','female')"
      ],
      "execution_count": null,
      "outputs": []
    },
    {
      "cell_type": "code",
      "metadata": {
        "id": "0wojgKuXexXt"
      },
      "source": [
        "number=[i for i in range(12)]"
      ],
      "execution_count": null,
      "outputs": []
    },
    {
      "cell_type": "code",
      "metadata": {
        "id": "NpW52ETWeXpZ"
      },
      "source": [
        "boto=[random.choice(sex) for i in range(15) ]"
      ],
      "execution_count": null,
      "outputs": []
    },
    {
      "cell_type": "code",
      "metadata": {
        "id": "Ve4-5tD7fXxn"
      },
      "source": [
        "x=list(zip(number,boto))"
      ],
      "execution_count": null,
      "outputs": []
    },
    {
      "cell_type": "markdown",
      "metadata": {
        "id": "96qVVMKegibT"
      },
      "source": [
        "### Combine Dataframe (CONCAT)"
      ]
    },
    {
      "cell_type": "code",
      "metadata": {
        "id": "he4mniBqgo27"
      },
      "source": [
        "newdf=pd.concat([DF1,DF2])"
      ],
      "execution_count": null,
      "outputs": []
    }
  ]
}